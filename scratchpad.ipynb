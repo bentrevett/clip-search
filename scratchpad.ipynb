{
 "cells": [
  {
   "cell_type": "code",
   "execution_count": 3,
   "metadata": {},
   "outputs": [],
   "source": [
    "from huggingface_hub import hf_hub_download\n",
    "import open_clip\n",
    "import shutil\n",
    "import os"
   ]
  },
  {
   "cell_type": "code",
   "execution_count": null,
   "metadata": {},
   "outputs": [],
   "source": [
    "repo_id = \"timm/ViT-B-16-SigLIP-512\"\n",
    "open_clip_repo_id = f\"hf-hub:{repo_id}\"\n",
    "\n",
    "model, preprocess = open_clip.create_model_from_pretrained(open_clip_repo_id)\n",
    "tokenizer = open_clip.get_tokenizer(open_clip_repo_id)\n",
    "\n",
    "file_names = [\n",
    "    \"open_clip_config.json\",\n",
    "    \"open_clip_pytorch_model.bin\",\n",
    "    \"special_tokens_map.json\",\n",
    "    \"tokenizer.json\",\n",
    "    \"tokenizer_config.json\",\n",
    "]\n",
    "\n",
    "model_dir = \"model\"\n",
    "for file_name in file_names:\n",
    "    src_path = hf_hub_download(repo_id, file_name)\n",
    "    dst_path = os.path.join(model_dir, file_name)\n",
    "    dst_dir = os.path.dirname(dst_path)\n",
    "    if not os.path.exists(dst_dir):\n",
    "        os.makedirs(dst_dir)\n",
    "    shutil.copy(src_path, dst_path)"
   ]
  },
  {
   "cell_type": "code",
   "execution_count": 4,
   "metadata": {},
   "outputs": [],
   "source": [
    "model_name = \"ViT-B-16-SigLIP-512\"\n",
    "model, _, preprocess = open_clip.create_model_and_transforms(\n",
    "    model_name, pretrained=\"model/open_clip_pytorch_model.bin\"\n",
    ")\n",
    "tokenizer = open_clip.tokenizer.HFTokenizer(\"model\")\n",
    "text = \"a red shirt\"\n",
    "tokens = tokenizer(text, context_length=64)\n",
    "tokens, tokens.shape\n",
    "value = model.encode_text(tokens).mean().item()"
   ]
  },
  {
   "cell_type": "code",
   "execution_count": 17,
   "metadata": {},
   "outputs": [],
   "source": [
    "# model, preprocess = open_clip.create_model_from_pretrained(\"hf-hub:timm/ViT-B-16-SigLIP-512\")\n",
    "# tokenizer = open_clip.get_tokenizer(\"hf-hub:timm/ViT-B-16-SigLIP-512\")"
   ]
  },
  {
   "cell_type": "code",
   "execution_count": 7,
   "metadata": {},
   "outputs": [
    {
     "data": {
      "text/plain": [
       "(tensor([[ 262,  266, 1226, 5089,    1,    1,    1,    1,    1,    1,    1,    1,\n",
       "             1,    1,    1,    1,    1,    1,    1,    1,    1,    1,    1,    1,\n",
       "             1,    1,    1,    1,    1,    1,    1,    1,    1,    1,    1,    1,\n",
       "             1,    1,    1,    1,    1,    1,    1,    1,    1,    1,    1,    1,\n",
       "             1,    1,    1,    1,    1,    1,    1,    1,    1,    1,    1,    1,\n",
       "             1,    1,    1,    1]]),\n",
       " torch.Size([1, 64]))"
      ]
     },
     "execution_count": 7,
     "metadata": {},
     "output_type": "execute_result"
    }
   ],
   "source": [
    "text = \"a red shirt\"\n",
    "tokens = tokenizer(text, context_length=64)\n",
    "tokens, tokens.shape"
   ]
  },
  {
   "cell_type": "code",
   "execution_count": 8,
   "metadata": {},
   "outputs": [
    {
     "data": {
      "text/plain": [
       "torch.Size([1, 768])"
      ]
     },
     "execution_count": 8,
     "metadata": {},
     "output_type": "execute_result"
    }
   ],
   "source": [
    "model.encode_text(tokens).shape"
   ]
  },
  {
   "cell_type": "code",
   "execution_count": 4,
   "metadata": {},
   "outputs": [
    {
     "data": {
      "text/plain": [
       "(tensor([[ 262,  266, 1226, 5089,    1,    1,    1,    1,    1,    1,    1,    1,\n",
       "             1,    1,    1,    1,    1,    1,    1,    1,    1,    1,    1,    1,\n",
       "             1,    1,    1,    1,    1,    1,    1,    1,    1,    1,    1,    1,\n",
       "             1,    1,    1,    1,    1,    1,    1,    1,    1,    1,    1,    1,\n",
       "             1,    1,    1,    1,    1,    1,    1,    1,    1,    1,    1,    1,\n",
       "             1,    1,    1,    1]]),\n",
       " torch.Size([1, 64]))"
      ]
     },
     "execution_count": 4,
     "metadata": {},
     "output_type": "execute_result"
    }
   ],
   "source": [
    "model2, preprocess2 = open_clip.create_model_from_pretrained(\n",
    "    \"hf-hub:timm/ViT-B-16-SigLIP-512\"\n",
    ")\n",
    "tokenizer2 = open_clip.get_tokenizer(\"hf-hub:timm/ViT-B-16-SigLIP-512\")\n",
    "text = \"a red shirt\"\n",
    "tokens2 = tokenizer2(text)\n",
    "tokens2, tokens2.shape"
   ]
  },
  {
   "cell_type": "code",
   "execution_count": 5,
   "metadata": {},
   "outputs": [
    {
     "data": {
      "text/plain": [
       "torch.Size([1, 768])"
      ]
     },
     "execution_count": 5,
     "metadata": {},
     "output_type": "execute_result"
    }
   ],
   "source": [
    "model2.encode_text(tokens2).shape"
   ]
  },
  {
   "cell_type": "code",
   "execution_count": 12,
   "metadata": {},
   "outputs": [
    {
     "data": {
      "text/plain": [
       "True"
      ]
     },
     "execution_count": 12,
     "metadata": {},
     "output_type": "execute_result"
    }
   ],
   "source": [
    "import torch\n",
    "\n",
    "torch.equal(model.encode_text(tokens), model2.encode_text(tokens2))"
   ]
  },
  {
   "cell_type": "code",
   "execution_count": 15,
   "metadata": {},
   "outputs": [
    {
     "data": {
      "text/plain": [
       "(tensor([[ 262,  266, 1226, 5089,  262,  266, 1226, 5089,  262,  266, 1226, 5089,\n",
       "           262,  266, 1226, 5089,  262,  266, 1226, 5089,  262,  266, 1226, 5089,\n",
       "           262,  266, 1226, 5089,  262,  266, 1226, 5089,  262,  266, 1226, 5089,\n",
       "           262,  266, 1226, 5089,  262,  266, 1226, 5089,  262,  266, 1226, 5089,\n",
       "           262,  266, 1226, 5089,  262,  266, 1226, 5089,  262,  266, 1226, 5089,\n",
       "           262,  266, 1226,    1]]),\n",
       " torch.Size([1, 64]))"
      ]
     },
     "execution_count": 15,
     "metadata": {},
     "output_type": "execute_result"
    }
   ],
   "source": [
    "text = \"a red shirt a red shirt a red shirt a red shirt a red shirt a red shirt a red shirt a red shirt a red shirt a red shirt a red shirt a red shirt a red shirt a red shirt a red shirt a red shirt a red shirt a red shirt a red shirt a red shirt a red shirt a red shirt a red shirt a red shirt a red shirt a red shirt a red shirt a red shirt a red shirt a red shirt a red shirt a red shirt a red shirt a red shirt a red shirt a red shirt a red shirt\"\n",
    "tokens2 = tokenizer2(text)\n",
    "tokens2, tokens2.shape"
   ]
  },
  {
   "cell_type": "code",
   "execution_count": 22,
   "metadata": {},
   "outputs": [
    {
     "data": {
      "text/plain": [
       "0.00645834906026721"
      ]
     },
     "execution_count": 22,
     "metadata": {},
     "output_type": "execute_result"
    }
   ],
   "source": [
    "model.encode_text(tokenizer(\"a red shirt\", context_length=64)).mean().item()"
   ]
  },
  {
   "cell_type": "code",
   "execution_count": 9,
   "metadata": {},
   "outputs": [
    {
     "data": {
      "text/plain": [
       "['▁red', '▁shirt']"
      ]
     },
     "execution_count": 9,
     "metadata": {},
     "output_type": "execute_result"
    }
   ],
   "source": [
    "tokenizer.tokenizer.tokenize(\"red shirt\")"
   ]
  },
  {
   "cell_type": "code",
   "execution_count": null,
   "metadata": {},
   "outputs": [],
   "source": []
  }
 ],
 "metadata": {
  "kernelspec": {
   "display_name": "main",
   "language": "python",
   "name": "python3"
  },
  "language_info": {
   "codemirror_mode": {
    "name": "ipython",
    "version": 3
   },
   "file_extension": ".py",
   "mimetype": "text/x-python",
   "name": "python",
   "nbconvert_exporter": "python",
   "pygments_lexer": "ipython3",
   "version": "3.11.8"
  }
 },
 "nbformat": 4,
 "nbformat_minor": 2
}
